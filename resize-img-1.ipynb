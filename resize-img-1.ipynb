{
 "cells": [
  {
   "cell_type": "code",
   "execution_count": 28,
   "id": "800b7867",
   "metadata": {},
   "outputs": [],
   "source": [
    "import cv2\n",
    "import numpy as np"
   ]
  },
  {
   "cell_type": "code",
   "execution_count": 31,
   "id": "1500697c",
   "metadata": {},
   "outputs": [],
   "source": [
    "file_1_path = \"./pure/models/noze2.jpg\"\n",
    "file_2_path = \"./pure/models/aiki2.jpg\""
   ]
  },
  {
   "cell_type": "code",
   "execution_count": 32,
   "id": "63f521b5",
   "metadata": {},
   "outputs": [
    {
     "name": "stdout",
     "output_type": "stream",
     "text": [
      "(920, 764, 3)\n",
      "(920, 764, 3)\n"
     ]
    }
   ],
   "source": [
    "img1 = cv2.imread(file_1_path)\n",
    "img2 = cv2.imread(file_2_path)\n",
    "print(img1.shape)\n",
    "print(img2.shape)"
   ]
  },
  {
   "cell_type": "code",
   "execution_count": 27,
   "id": "964ef651",
   "metadata": {},
   "outputs": [
    {
     "name": "stdout",
     "output_type": "stream",
     "text": [
      "(1032, 828, 3)\n"
     ]
    }
   ],
   "source": [
    "output = cv2.resize(img2,(img1.shape[1],img1.shape[0]),interpolation = cv2.INTER_AREA)\n",
    "cv2.imwrite('./pure/models/noze1_re.jpg',output) \n",
    "img3 = cv2.imread('./pure/models/noze1_re.jpg')\n",
    "print(img3.shape)\n",
    "# cv2.imshow('Result',img1)\n",
    "# cv2.waitKey(0)\n",
    "# ,1118"
   ]
  },
  {
   "cell_type": "code",
   "execution_count": 5,
   "id": "f3a5bef4",
   "metadata": {},
   "outputs": [],
   "source": [
    "morph_img = cv2.addWeighted(img1,0.5,img3,0.5,0)"
   ]
  },
  {
   "cell_type": "code",
   "execution_count": 6,
   "id": "0b2403b9",
   "metadata": {},
   "outputs": [
    {
     "data": {
      "text/plain": [
       "48"
      ]
     },
     "execution_count": 6,
     "metadata": {},
     "output_type": "execute_result"
    }
   ],
   "source": [
    "save_img = np.hstack((img1,morph_img,img3))\n",
    "cv2.imwrite(\"./output/morph_119.jpg\",save_img)\n",
    "cv2.imshow(\"morph_img\",save_img)\n",
    "cv2.waitKey(0)\n"
   ]
  },
  {
   "cell_type": "code",
   "execution_count": null,
   "id": "d700835f",
   "metadata": {},
   "outputs": [],
   "source": [
    "cv2.destroyAllWindows()"
   ]
  },
  {
   "cell_type": "code",
   "execution_count": null,
   "id": "970b3afa",
   "metadata": {},
   "outputs": [],
   "source": []
  }
 ],
 "metadata": {
  "kernelspec": {
   "display_name": "Python 3",
   "language": "python",
   "name": "python3"
  },
  "language_info": {
   "codemirror_mode": {
    "name": "ipython",
    "version": 3
   },
   "file_extension": ".py",
   "mimetype": "text/x-python",
   "name": "python",
   "nbconvert_exporter": "python",
   "pygments_lexer": "ipython3",
   "version": "3.8.8"
  }
 },
 "nbformat": 4,
 "nbformat_minor": 5
}
