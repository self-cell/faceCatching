{
 "cells": [
  {
   "cell_type": "code",
   "execution_count": 1,
   "id": "2bbf0d64",
   "metadata": {},
   "outputs": [],
   "source": [
    "import cv2\n",
    "import numpy as np\n",
    "import random"
   ]
  },
  {
   "cell_type": "code",
   "execution_count": 2,
   "id": "134a6175",
   "metadata": {},
   "outputs": [],
   "source": [
    "#Check if a point is insied a rectangle\n",
    "def rect_contains(rect,point):\n",
    "    if point[0] <rect[0]:\n",
    "        return False\n",
    "    elif point[1]<rect[1]:\n",
    "        return  False\n",
    "    elif point[0]>rect[2]:\n",
    "        return False\n",
    "    elif point[1] >rect[3]:\n",
    "        return False\n",
    "    return True\n"
   ]
  },
  {
   "cell_type": "code",
   "execution_count": 3,
   "id": "bc656e82",
   "metadata": {},
   "outputs": [],
   "source": [
    "# Draw a point\n",
    "def draw_point(img,p,color):\n",
    "    cv2.circle(img,p,2,color)\n"
   ]
  },
  {
   "cell_type": "code",
   "execution_count": 4,
   "id": "e0386dd3",
   "metadata": {},
   "outputs": [],
   "source": [
    "#Draw delaunay triangles\n",
    "def draw_delaunay(img,subdiv,delaunay_color):\n",
    "    trangleList = subdiv.getTriangleList()\n",
    "    size = img.shape\n",
    "    r = (0,0,size[1],size[0])\n",
    "    \n",
    "    for t in  trangleList:\n",
    "        print(t)\n",
    "        pt1 = (int(t[0]),int(t[1]))\n",
    "        pt2 = (int(t[2]),int(t[3]))\n",
    "        pt3 = (int(t[4]),int(t[5]))\n",
    "        if (rect_contains(r,pt1) and rect_contains(r,pt2) and rect_contains(r,pt3)):\n",
    "            cv2.line(img,pt1,pt2,delaunay_color,1)\n",
    "            cv2.line(img,pt2,pt3,delaunay_color,1)\n",
    "            cv2.line(img,pt3,pt1,delaunay_color,1)\n"
   ]
  },
  {
   "cell_type": "code",
   "execution_count": 5,
   "id": "fb044e6c",
   "metadata": {},
   "outputs": [],
   "source": [
    "# Draw voronoi diagram\n",
    "def draw_voronoi(img,subdiv):\n",
    "    (facets,centers) = subdiv.getVoronoiFacetList([])\n",
    "\n",
    "    for i in range(0,len(facets)):\n",
    "        ifacet_arr = []\n",
    "        for f in facets[i]:\n",
    "            ifacet_arr.append(f)\n",
    "\n",
    "        ifacet = np.array(ifacet_arr,np.int)\n",
    "        color = (random.randint(0,255),random.randint(0,255),random.randint(0,255))\n",
    "        cv2.fillConvexPoly(img,ifacet,color)\n",
    "        ifacets = np.array([ifacet])\n",
    "        cv2.polylines(img,ifacets,True,(0,0,0),1)\n",
    "        cv2.circle(img,(centers[i][0],centers[i][1]),3,(0,0,0))\n",
    "\n"
   ]
  },
  {
   "cell_type": "code",
   "execution_count": 6,
   "id": "00396837",
   "metadata": {},
   "outputs": [
    {
     "name": "stdout",
     "output_type": "stream",
     "text": [
      "[ 50. 101.  53. 124.  51. 113.]\n"
     ]
    },
    {
     "ename": "error",
     "evalue": "OpenCV(4.5.4) :-1: error: (-5:Bad argument) in function 'line'\n> Overload resolution failed:\n>  - Can't parse 'pt1'. Sequence item with index 0 has a wrong type\n>  - Can't parse 'pt1'. Sequence item with index 0 has a wrong type\n",
     "output_type": "error",
     "traceback": [
      "\u001b[0;31m---------------------------------------------------------------------------\u001b[0m",
      "\u001b[0;31merror\u001b[0m                                     Traceback (most recent call last)",
      "\u001b[0;32m<ipython-input-6-030f7d6b47b2>\u001b[0m in \u001b[0;36m<module>\u001b[0;34m\u001b[0m\n\u001b[1;32m     40\u001b[0m             \u001b[0mimg_copy\u001b[0m \u001b[0;34m=\u001b[0m \u001b[0mimg_orig\u001b[0m\u001b[0;34m.\u001b[0m\u001b[0mcopy\u001b[0m\u001b[0;34m(\u001b[0m\u001b[0;34m)\u001b[0m\u001b[0;34m\u001b[0m\u001b[0;34m\u001b[0m\u001b[0m\n\u001b[1;32m     41\u001b[0m             \u001b[0;31m#Draw delaunay triangles\u001b[0m\u001b[0;34m\u001b[0m\u001b[0;34m\u001b[0m\u001b[0;34m\u001b[0m\u001b[0m\n\u001b[0;32m---> 42\u001b[0;31m             \u001b[0mdraw_delaunay\u001b[0m\u001b[0;34m(\u001b[0m\u001b[0mimg_copy\u001b[0m\u001b[0;34m,\u001b[0m\u001b[0msubdiv\u001b[0m\u001b[0;34m,\u001b[0m\u001b[0;34m(\u001b[0m\u001b[0;36m255\u001b[0m\u001b[0;34m,\u001b[0m\u001b[0;36m255\u001b[0m\u001b[0;34m,\u001b[0m\u001b[0;36m255\u001b[0m\u001b[0;34m)\u001b[0m\u001b[0;34m)\u001b[0m\u001b[0;34m\u001b[0m\u001b[0;34m\u001b[0m\u001b[0m\n\u001b[0m\u001b[1;32m     43\u001b[0m             \u001b[0mcv2\u001b[0m\u001b[0;34m.\u001b[0m\u001b[0mimshow\u001b[0m\u001b[0;34m(\u001b[0m\u001b[0mwin_delaunary\u001b[0m\u001b[0;34m,\u001b[0m\u001b[0mimg_copy\u001b[0m\u001b[0;34m)\u001b[0m\u001b[0;34m\u001b[0m\u001b[0;34m\u001b[0m\u001b[0m\n\u001b[1;32m     44\u001b[0m             \u001b[0mcv2\u001b[0m\u001b[0;34m.\u001b[0m\u001b[0mwaitKey\u001b[0m\u001b[0;34m(\u001b[0m\u001b[0;36m100\u001b[0m\u001b[0;34m)\u001b[0m\u001b[0;34m\u001b[0m\u001b[0;34m\u001b[0m\u001b[0m\n",
      "\u001b[0;32m<ipython-input-4-77e72a8fa0ec>\u001b[0m in \u001b[0;36mdraw_delaunay\u001b[0;34m(img, subdiv, delaunay_color)\u001b[0m\n\u001b[1;32m     11\u001b[0m         \u001b[0mpt3\u001b[0m \u001b[0;34m=\u001b[0m \u001b[0;34m(\u001b[0m\u001b[0mt\u001b[0m\u001b[0;34m[\u001b[0m\u001b[0;36m4\u001b[0m\u001b[0;34m]\u001b[0m\u001b[0;34m,\u001b[0m\u001b[0mt\u001b[0m\u001b[0;34m[\u001b[0m\u001b[0;36m5\u001b[0m\u001b[0;34m]\u001b[0m\u001b[0;34m)\u001b[0m\u001b[0;34m\u001b[0m\u001b[0;34m\u001b[0m\u001b[0m\n\u001b[1;32m     12\u001b[0m         \u001b[0;32mif\u001b[0m \u001b[0;34m(\u001b[0m\u001b[0mrect_contains\u001b[0m\u001b[0;34m(\u001b[0m\u001b[0mr\u001b[0m\u001b[0;34m,\u001b[0m\u001b[0mpt1\u001b[0m\u001b[0;34m)\u001b[0m \u001b[0;32mand\u001b[0m \u001b[0mrect_contains\u001b[0m\u001b[0;34m(\u001b[0m\u001b[0mr\u001b[0m\u001b[0;34m,\u001b[0m\u001b[0mpt2\u001b[0m\u001b[0;34m)\u001b[0m \u001b[0;32mand\u001b[0m \u001b[0mrect_contains\u001b[0m\u001b[0;34m(\u001b[0m\u001b[0mr\u001b[0m\u001b[0;34m,\u001b[0m\u001b[0mpt3\u001b[0m\u001b[0;34m)\u001b[0m\u001b[0;34m)\u001b[0m\u001b[0;34m:\u001b[0m\u001b[0;34m\u001b[0m\u001b[0;34m\u001b[0m\u001b[0m\n\u001b[0;32m---> 13\u001b[0;31m             \u001b[0mcv2\u001b[0m\u001b[0;34m.\u001b[0m\u001b[0mline\u001b[0m\u001b[0;34m(\u001b[0m\u001b[0mimg\u001b[0m\u001b[0;34m,\u001b[0m\u001b[0mpt1\u001b[0m\u001b[0;34m,\u001b[0m\u001b[0mpt2\u001b[0m\u001b[0;34m,\u001b[0m\u001b[0mdelaunay_color\u001b[0m\u001b[0;34m,\u001b[0m\u001b[0;36m1\u001b[0m\u001b[0;34m)\u001b[0m\u001b[0;34m\u001b[0m\u001b[0;34m\u001b[0m\u001b[0m\n\u001b[0m\u001b[1;32m     14\u001b[0m             \u001b[0mcv2\u001b[0m\u001b[0;34m.\u001b[0m\u001b[0mline\u001b[0m\u001b[0;34m(\u001b[0m\u001b[0mimg\u001b[0m\u001b[0;34m,\u001b[0m\u001b[0mpt2\u001b[0m\u001b[0;34m,\u001b[0m\u001b[0mpt3\u001b[0m\u001b[0;34m,\u001b[0m\u001b[0mdelaunay_color\u001b[0m\u001b[0;34m,\u001b[0m\u001b[0;36m1\u001b[0m\u001b[0;34m)\u001b[0m\u001b[0;34m\u001b[0m\u001b[0;34m\u001b[0m\u001b[0m\n\u001b[1;32m     15\u001b[0m             \u001b[0mcv2\u001b[0m\u001b[0;34m.\u001b[0m\u001b[0mline\u001b[0m\u001b[0;34m(\u001b[0m\u001b[0mimg\u001b[0m\u001b[0;34m,\u001b[0m\u001b[0mpt3\u001b[0m\u001b[0;34m,\u001b[0m\u001b[0mpt1\u001b[0m\u001b[0;34m,\u001b[0m\u001b[0mdelaunay_color\u001b[0m\u001b[0;34m,\u001b[0m\u001b[0;36m1\u001b[0m\u001b[0;34m)\u001b[0m\u001b[0;34m\u001b[0m\u001b[0;34m\u001b[0m\u001b[0m\n",
      "\u001b[0;31merror\u001b[0m: OpenCV(4.5.4) :-1: error: (-5:Bad argument) in function 'line'\n> Overload resolution failed:\n>  - Can't parse 'pt1'. Sequence item with index 0 has a wrong type\n>  - Can't parse 'pt1'. Sequence item with index 0 has a wrong type\n"
     ]
    }
   ],
   "source": [
    "if __name__ == '__main__':\n",
    "    #Define window names;\n",
    "    win_delaunary = \"Delaunay Triangulation\"\n",
    "    win_voronoi = \"Voronoi Diagram\"\n",
    "\n",
    "    #Turn on animations while drawing triangles\n",
    "    animate = True\n",
    "\n",
    "    #Define colors for drawing\n",
    "    delaunary_color = (255,255,255)\n",
    "    points_color = (0,0,255)\n",
    "\n",
    "    #Read in the image\n",
    "    img_path = \"./pure/models/wg.jpg\"\n",
    "\n",
    "    img = cv2.imread(img_path)\n",
    "\n",
    "    #Keep a copy   around\n",
    "    img_orig = img.copy()\n",
    "\n",
    "    #Rectangle to be used with Subdiv2D\n",
    "    size = img.shape\n",
    "    rect = (0,0,size[1],size[0])\n",
    "\n",
    "    #Create an instance of Subdiv2d\n",
    "    subdiv = cv2.Subdiv2D(rect)\n",
    "    #Create an array of points\n",
    "    points = []\n",
    "    #Read in the points from a text file\n",
    "    with open(\"./output/img1_68.txt\") as file:\n",
    "        for line in file:\n",
    "            x,y = line.split()\n",
    "            points.append((int(x),int(y)))\n",
    "    #Insert points into subdiv\n",
    "    for p in points:\n",
    "        subdiv.insert(p)\n",
    "\n",
    "        #Show animate\n",
    "        if animate:\n",
    "            img_copy = img_orig.copy()\n",
    "            #Draw delaunay triangles\n",
    "            draw_delaunay(img_copy,subdiv,(255,255,255))\n",
    "            cv2.imshow(win_delaunary,img_copy)\n",
    "            cv2.waitKey(100)\n",
    "\n",
    "    #Draw delaunary triangles\n",
    "    draw_delaunay(img,subdiv,(255,255,255))\n",
    "\n",
    "    #Draw points\n",
    "    for p in points:\n",
    "        draw_point(img,p,(0,0,255))\n",
    "\n",
    "    #Allocate space for Voroni Diagram\n",
    "    img_voronoi = np.zeros(img.shape,dtype = img.dtype)\n",
    "\n",
    "    #Draw Voonoi diagram\n",
    "    draw_voronoi(img_voronoi,subdiv)\n",
    "\n",
    "    #Show results\n",
    "    cv2.imshow(win_delaunary,img)\n",
    "    cv2.imshow(win_voronoi,img_voronoi)\n",
    "    cv2.waitKey(0)\n",
    "    cv2.destroyAllWindows()"
   ]
  },
  {
   "cell_type": "code",
   "execution_count": null,
   "id": "c5f4a37c",
   "metadata": {},
   "outputs": [],
   "source": []
  }
 ],
 "metadata": {
  "kernelspec": {
   "display_name": "Python 3",
   "language": "python",
   "name": "python3"
  },
  "language_info": {
   "codemirror_mode": {
    "name": "ipython",
    "version": 3
   },
   "file_extension": ".py",
   "mimetype": "text/x-python",
   "name": "python",
   "nbconvert_exporter": "python",
   "pygments_lexer": "ipython3",
   "version": "3.8.8"
  }
 },
 "nbformat": 4,
 "nbformat_minor": 5
}
