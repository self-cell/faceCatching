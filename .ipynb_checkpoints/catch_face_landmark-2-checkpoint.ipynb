{
 "cells": [
  {
   "cell_type": "code",
   "execution_count": 1,
   "id": "3dd5b007",
   "metadata": {},
   "outputs": [],
   "source": [
    "import dlib\n",
    "import cv2\n",
    "import numpy as np"
   ]
  },
  {
   "cell_type": "code",
   "execution_count": 2,
   "id": "da4b5172",
   "metadata": {},
   "outputs": [],
   "source": [
    "#Dlib facial landmarks model的path\n",
    "predictor_path = \"./shape_predictor_68_face_landmarks.dat\"\n",
    "#待處理的相片\n",
    "face_path = \"./pure/models/wg.jpg\""
   ]
  },
  {
   "cell_type": "code",
   "execution_count": 3,
   "id": "cfb95873",
   "metadata": {},
   "outputs": [],
   "source": [
    "txt_path = \"./output/img1_68.txt\"\n",
    "f = open(txt_path,'w+')"
   ]
  },
  {
   "cell_type": "code",
   "execution_count": 4,
   "id": "53a4b929",
   "metadata": {},
   "outputs": [],
   "source": [
    "#於landmarks上畫圓，標識特徴點\n",
    "def renderFace(im, landmarks, color=(0, 255, 0), radius=3):\n",
    "  for p in landmarks.parts():\n",
    "    cv2.circle(im, (p.x, p.y), radius, color, -1)"
   ]
  },
  {
   "cell_type": "code",
   "execution_count": 5,
   "id": "ed0b8204",
   "metadata": {},
   "outputs": [],
   "source": [
    "#detector為臉孔偵測，predictor為landmarks偵測\n",
    "detector = dlib.get_frontal_face_detector()\n",
    "predictor = dlib.shape_predictor(predictor_path)"
   ]
  },
  {
   "cell_type": "code",
   "execution_count": 6,
   "id": "26ae079c",
   "metadata": {},
   "outputs": [],
   "source": [
    "#讀入相片\n",
    "img = cv2.imread(face_path)"
   ]
  },
  {
   "cell_type": "code",
   "execution_count": 10,
   "id": "26e77a83",
   "metadata": {},
   "outputs": [
    {
     "name": "stdout",
     "output_type": "stream",
     "text": [
      "Detection 0  left:46  Top: 76 Right 135  Bottom 166\n"
     ]
    }
   ],
   "source": [
    "#偵測臉孔\n",
    "dets = detector(img, 1)\n",
    "for k,d in enumerate(dets):\n",
    "    print(\"Detection {}  left:{}  Top: {} Right {}  Bottom {}\".format(\n",
    "        k,d.left(),d.top(),d.right(),d.bottom()\n",
    "    ))\n",
    "    lanmarks = [[p.x,p.y] for p in predictor(img,d).parts()]\n",
    "    for idx,point in enumerate(lanmarks):\n",
    "        f.write(str(point[0]))\n",
    "        f.write(\"\\t\")\n",
    "        f.write(str(point[1]))\n",
    "        f.write('\\n')\n"
   ]
  },
  {
   "cell_type": "code",
   "execution_count": 7,
   "id": "e526f594",
   "metadata": {},
   "outputs": [],
   "source": [
    "#針對相片中的每張臉孔偵測68個landmarks\n",
    "for k, d in enumerate(dets):\n",
    "    shape = predictor(img, d)\n",
    "    renderFace(img, shape)\n",
    "\n",
    "cv2.imshow(\"face-rendered\", img)\n",
    "cv2.waitKey(0)"
   ]
  },
  {
   "cell_type": "code",
   "execution_count": 8,
   "id": "cfa46742",
   "metadata": {},
   "outputs": [],
   "source": [
    "cv2.destroyAllWindows()"
   ]
  },
  {
   "cell_type": "code",
   "execution_count": null,
   "id": "7732594f",
   "metadata": {},
   "outputs": [],
   "source": []
  }
 ],
 "metadata": {
  "kernelspec": {
   "display_name": "Python 3",
   "language": "python",
   "name": "python3"
  },
  "language_info": {
   "codemirror_mode": {
    "name": "ipython",
    "version": 3
   },
   "file_extension": ".py",
   "mimetype": "text/x-python",
   "name": "python",
   "nbconvert_exporter": "python",
   "pygments_lexer": "ipython3",
   "version": "3.8.8"
  }
 },
 "nbformat": 4,
 "nbformat_minor": 5
}
