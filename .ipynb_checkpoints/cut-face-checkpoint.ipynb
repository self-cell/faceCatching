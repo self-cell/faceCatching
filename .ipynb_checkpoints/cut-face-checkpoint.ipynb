{
 "cells": [
  {
   "cell_type": "code",
   "execution_count": 1,
   "id": "f1bac852",
   "metadata": {},
   "outputs": [],
   "source": [
    "import numpy as np\n",
    "import cv2\n",
    "import dlib\n",
    "import math"
   ]
  },
  {
   "cell_type": "code",
   "execution_count": 2,
   "id": "4b5c6d90",
   "metadata": {},
   "outputs": [],
   "source": [
    "#Dlib facial landmarks model的path\n",
    "predictor_path = \"./shape_predictor_68_face_landmarks.dat\"\n",
    "#待處理的相片\n",
    "face_path = \"./pure/models/noze2.jpg\""
   ]
  },
  {
   "cell_type": "code",
   "execution_count": 3,
   "id": "4197d5d3",
   "metadata": {},
   "outputs": [],
   "source": [
    "#detector為臉孔偵測，predictor為landmarks偵測\n",
    "detector = dlib.get_frontal_face_detector()\n",
    "predictor = dlib.shape_predictor(predictor_path)"
   ]
  },
  {
   "cell_type": "code",
   "execution_count": 4,
   "id": "94053bc1",
   "metadata": {},
   "outputs": [],
   "source": [
    "#讀入相片\n",
    "img = cv2.imread(face_path)"
   ]
  },
  {
   "cell_type": "code",
   "execution_count": 5,
   "id": "a5bc58e8",
   "metadata": {},
   "outputs": [],
   "source": [
    "# 取灰度\n",
    "img_gray = cv2.cvtColor(img, cv2.COLOR_RGB2GRAY)\n",
    "mask = np.zeros_like(img_gray)"
   ]
  },
  {
   "cell_type": "code",
   "execution_count": 6,
   "id": "a1a74073",
   "metadata": {},
   "outputs": [
    {
     "name": "stdout",
     "output_type": "stream",
     "text": [
      "(920, 764, 3)\n",
      "(920, 764, 3)\n",
      "300\n",
      "350\n",
      "400\n",
      "450\n",
      "500\n",
      "550\n",
      "600\n",
      "650\n",
      "700\n",
      "750\n"
     ]
    }
   ],
   "source": [
    "# 68個點rects\n",
    "faces = detector(img_gray)\n",
    "for face in faces:\n",
    "    landmarks = predictor(img_gray,face)\n",
    "    landmarks_points = []\n",
    "    for n in range(0,68):\n",
    "        x = landmarks.part(n).x\n",
    "        y = landmarks.part(n).y\n",
    "        landmarks_points.append((x,y))\n",
    "#         cv2.circle(img, (x,y), 2, color=(0, 255, 0))\n",
    "    points = np.array(landmarks_points , np.int32)\n",
    "    convexhull = cv2.convexHull(points)\n",
    "    \n",
    "#     cv2.polylines(img,[convexhull],True,(255,0,0),3)\n",
    "    cv2.fillConvexPoly(mask,convexhull,255)\n",
    "    \n",
    "    only_face_img = cv2.bitwise_and(img, img, mask=mask)\n",
    "    print(only_face_img.shape)\n",
    "    \n",
    "#     kernel = np.ones((3,3),np.uint8)\n",
    "#     erosion = cv2.erode(only_face_img,kernel,iterations = 3)\n",
    "\n",
    "#     dilate = cv2.dilate(only_face_img,kernel,iterations = 5)\n",
    "    \n",
    "# cv2.imshow('erosion', erosion)\n",
    "# cv2.imshow('dilate', dilate)\n",
    "\n",
    "# cv2.imshow(\"Mask\",only_face_img)\n",
    "# cv2.imwrite(\"./output/face-cut.jpg\",only_face_img)\n",
    "# cv2.waitKey(0)\n",
    "# cv2.destroyAllWindows()\n",
    "    # S變形\n",
    "    \n",
    "    \n",
    "    height, width ,channel = only_face_img.shape[0], only_face_img.shape[1],only_face_img.shape[2]\n",
    "    resize_only_face_img = np.zeros([height, width,channel], np.uint8)\n",
    "    print(resize_only_face_img.shape)\n",
    "    RANGE=250\n",
    "#     for count in range(0,10):\n",
    "#         for i in range(height):\n",
    "#             # 得到正弦波的波形，即j對應的起點\n",
    "#             temp = float((width - RANGE) / 2 + (width- RANGE) * math.sin((2 * math.pi * i) / height + math.pi) / 2)\n",
    "#             for j in range (int(temp+0.5),int(RANGE+temp)) :\n",
    "#                 #映射關係\n",
    "#                 m = int(((j-temp) * width / RANGE))\n",
    "#                 if m >= width :\n",
    "#                     m=width-1\n",
    "#                 if m < 0 :\n",
    "#                     m=0\n",
    "#                 resize_only_face_img[i,j]=only_face_img[i,m]\n",
    "#         RANGE+=50\n",
    "#         print(RANGE)\n",
    "#         cv2.imwrite(\"./morphing/face-tri{}.jpg\".format(count),resize_only_face_img)\n",
    "            \n",
    "    #垂直+水平方向變形\n",
    "    deformValue = 50\n",
    "    for count in range(1,11):\n",
    "        for i in range(height):\n",
    "            for j in range(width):\n",
    "                offset_x = int(deformValue*math.cos(2*math.pi*i/180))\n",
    "                offset_y = int(deformValue*math.sin(2*math.pi*j/180))\n",
    "                if j+offset_x < width and i+offset_y < height:\n",
    "                    resize_only_face_img[i,j] = only_face_img[(i+offset_y)%height,(j+offset_x)%width]\n",
    "                else:\n",
    "                    resize_only_face_img[i,j] = 255\n",
    "        deformValue+=50\n",
    "        cv2.imwrite(\"./morphing/face-tri{}.jpg\".format(count),resize_only_face_img)\n",
    "\n",
    "#     cv2.imshow(\"old\", only_face_img)\n",
    "#     cv2.imshow(\"Sshape\", resize_only_face_img)\n",
    "#     cv2.waitKey(0)\n",
    "\n"
   ]
  },
  {
   "cell_type": "code",
   "execution_count": null,
   "id": "2dd7bed8",
   "metadata": {},
   "outputs": [],
   "source": []
  }
 ],
 "metadata": {
  "kernelspec": {
   "display_name": "Python 3",
   "language": "python",
   "name": "python3"
  },
  "language_info": {
   "codemirror_mode": {
    "name": "ipython",
    "version": 3
   },
   "file_extension": ".py",
   "mimetype": "text/x-python",
   "name": "python",
   "nbconvert_exporter": "python",
   "pygments_lexer": "ipython3",
   "version": "3.8.8"
  }
 },
 "nbformat": 4,
 "nbformat_minor": 5
}
