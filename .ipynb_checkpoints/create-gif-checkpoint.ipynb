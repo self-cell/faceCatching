{
 "cells": [
  {
   "cell_type": "code",
   "execution_count": 1,
   "id": "aaa4c248",
   "metadata": {},
   "outputs": [],
   "source": [
    "import imageio\n",
    "import glob\n",
    "import cv2\n",
    "from PIL import ImageFont, ImageDraw, Image\n",
    "import os"
   ]
  },
  {
   "cell_type": "code",
   "execution_count": 2,
   "id": "d1de5fc4",
   "metadata": {},
   "outputs": [],
   "source": [
    "def create_gif(imagename_list, gif_name, duration=0.05):\n",
    "    \"\"\"生成gif動圖,\n",
    "    imagename_list:圖片名字列表；\n",
    "    git_name：生成的gif；\n",
    "    duration：間隔時間，單位秒。\n",
    "    \"\"\"\n",
    "    frames = []\n",
    "#     size = Image.open(imagename_list[0]).size  # 獲取第一張圖的size,後面的圖都resize到該size\n",
    "    # 製作圖片序列\n",
    "    for imagename in imagename_list:\n",
    "#         image = Image.open(imagename)\n",
    "#         image = image.resize(size, Image.ANTIALIAS)\n",
    "        frames.append(imageio.imread(imagename))\n",
    "\n",
    "    # 生成gif,frames是圖片列表，duration是間隔時間\n",
    "    imageio.mimsave(gif_name, frames, 'GIF', duration=duration)\n",
    "    print(\"gif圖製作完成\")\n"
   ]
  },
  {
   "cell_type": "code",
   "execution_count": 3,
   "id": "5a0801e8",
   "metadata": {},
   "outputs": [
    {
     "name": "stdout",
     "output_type": "stream",
     "text": [
      "['./morphing/face-tri1.jpg', './morphing/face-tri2.jpg', './morphing/face-tri3.jpg', './morphing/face-tri4.jpg', './morphing/face-tri5.jpg', './morphing/face-tri6.jpg', './morphing/face-tri7.jpg', './morphing/face-tri8.jpg', './morphing/face-tri9.jpg', './morphing/face-tri10.jpg']\n",
      "gif圖製作完成\n"
     ]
    }
   ],
   "source": [
    "# gif生成\n",
    "\n",
    "imgs = sorted(glob.glob(r\"./morphing/*.jpg\"), key=os.path.getmtime)\n",
    "filename_list = imgs\n",
    "print(filename_list)\n",
    "\n",
    "create_gif(filename_list, \"./GIF/test.gif\")"
   ]
  }
 ],
 "metadata": {
  "kernelspec": {
   "display_name": "Python 3",
   "language": "python",
   "name": "python3"
  },
  "language_info": {
   "codemirror_mode": {
    "name": "ipython",
    "version": 3
   },
   "file_extension": ".py",
   "mimetype": "text/x-python",
   "name": "python",
   "nbconvert_exporter": "python",
   "pygments_lexer": "ipython3",
   "version": "3.8.8"
  }
 },
 "nbformat": 4,
 "nbformat_minor": 5
}
