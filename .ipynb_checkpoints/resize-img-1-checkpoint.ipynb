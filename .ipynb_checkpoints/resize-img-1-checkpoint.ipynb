{
 "cells": [
  {
   "cell_type": "code",
   "execution_count": 1,
   "id": "800b7867",
   "metadata": {},
   "outputs": [],
   "source": [
    "import cv2\n",
    "import numpy as np"
   ]
  },
  {
   "cell_type": "code",
   "execution_count": 2,
   "id": "1500697c",
   "metadata": {},
   "outputs": [],
   "source": [
    "file_1_path = \"./pure/models/wg.jpg\"\n",
    "file_2_path = \"./pure/models/tr.jpg\""
   ]
  },
  {
   "cell_type": "code",
   "execution_count": 3,
   "id": "63f521b5",
   "metadata": {},
   "outputs": [
    {
     "name": "stdout",
     "output_type": "stream",
     "text": [
      "(262, 193, 3)\n",
      "(600, 473, 3)\n"
     ]
    }
   ],
   "source": [
    "img1 = cv2.imread(file_1_path)\n",
    "img2 = cv2.imread(file_2_path)\n",
    "print(img1.shape)\n",
    "print(img2.shape)"
   ]
  },
  {
   "cell_type": "code",
   "execution_count": 8,
   "id": "964ef651",
   "metadata": {},
   "outputs": [
    {
     "name": "stdout",
     "output_type": "stream",
     "text": [
      "(262, 193, 3)\n"
     ]
    }
   ],
   "source": [
    "output = cv2.resize(img2,(193,262),interpolation = cv2.INTER_AREA)\n",
    "cv2.imwrite('./pure/models/tr2.jpg',output) \n",
    "img3 = cv2.imread('./pure/models/tr2.jpg')\n",
    "print(img3.shape)\n",
    "# cv2.imshow('Result',img1)\n",
    "# cv2.waitKey(0)\n",
    "# cv2.destroyAllWindows()"
   ]
  },
  {
   "cell_type": "code",
   "execution_count": 9,
   "id": "f3a5bef4",
   "metadata": {},
   "outputs": [],
   "source": [
    "morph_img = cv2.addWeighted(img1,0.5,img3,0.5,0)"
   ]
  },
  {
   "cell_type": "code",
   "execution_count": 11,
   "id": "0b2403b9",
   "metadata": {},
   "outputs": [],
   "source": [
    "save_img = np.hstack((img1,morph_img,img3))\n",
    "cv2.imwrite(\"./output/morph_1.jpg\",save_img)\n",
    "cv2.imshow(\"morph_img\",save_img)\n",
    "cv2.waitKey(0)\n"
   ]
  },
  {
   "cell_type": "code",
   "execution_count": null,
   "id": "d700835f",
   "metadata": {},
   "outputs": [],
   "source": [
    "cv2.destroyAllWindows()"
   ]
  },
  {
   "cell_type": "code",
   "execution_count": null,
   "id": "970b3afa",
   "metadata": {},
   "outputs": [],
   "source": []
  }
 ],
 "metadata": {
  "kernelspec": {
   "display_name": "Python 3",
   "language": "python",
   "name": "python3"
  },
  "language_info": {
   "codemirror_mode": {
    "name": "ipython",
    "version": 3
   },
   "file_extension": ".py",
   "mimetype": "text/x-python",
   "name": "python",
   "nbconvert_exporter": "python",
   "pygments_lexer": "ipython3",
   "version": "3.8.8"
  }
 },
 "nbformat": 4,
 "nbformat_minor": 5
}
