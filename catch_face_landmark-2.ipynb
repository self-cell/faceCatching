{
 "cells": [
  {
   "cell_type": "code",
   "execution_count": 1,
   "id": "d5f3abc4",
   "metadata": {},
   "outputs": [],
   "source": [
    "import dlib\n",
    "import cv2\n",
    "import numpy as np"
   ]
  },
  {
   "cell_type": "code",
   "execution_count": 8,
   "id": "7d59c771",
   "metadata": {},
   "outputs": [],
   "source": [
    "#Dlib facial landmarks model的path\n",
    "predictor_path = \"./shape_predictor_68_face_landmarks.dat\"\n",
    "#待處理的相片\n",
    "face_path = \"./pure/models/f1.PNG\""
   ]
  },
  {
   "cell_type": "code",
   "execution_count": 9,
   "id": "a754bba3",
   "metadata": {},
   "outputs": [],
   "source": [
    "txt_path = \"./output/img2_68.txt\"\n",
    "f = open(txt_path,'w')"
   ]
  },
  {
   "cell_type": "code",
   "execution_count": null,
   "id": "de6b04dc",
   "metadata": {},
   "outputs": [],
   "source": []
  },
  {
   "cell_type": "code",
   "execution_count": 4,
   "id": "602ff273",
   "metadata": {},
   "outputs": [],
   "source": [
    "#detector為臉孔偵測，predictor為landmarks偵測\n",
    "detector = dlib.get_frontal_face_detector()\n",
    "predictor = dlib.shape_predictor(predictor_path)"
   ]
  },
  {
   "cell_type": "code",
   "execution_count": 5,
   "id": "cf636ec4",
   "metadata": {},
   "outputs": [],
   "source": [
    "#讀入相片\n",
    "img = cv2.imread(face_path)"
   ]
  },
  {
   "cell_type": "code",
   "execution_count": 6,
   "id": "6e4e8374",
   "metadata": {},
   "outputs": [
    {
     "name": "stdout",
     "output_type": "stream",
     "text": [
      "Detection 0  left:332  Top: 718 Right 718  Bottom 1103\n",
      "Detection 1  left:149  Top: 1829 Right 211  Bottom 1891\n"
     ]
    }
   ],
   "source": [
    "#偵測臉孔 \n",
    "dets = detector(img, 1)\n",
    "for k,d in enumerate(dets):\n",
    "    print(\"Detection {}  left:{}  Top: {} Right {}  Bottom {}\".format(\n",
    "        k,d.left(),d.top(),d.right(),d.bottom()\n",
    "    ))\n",
    "    lanmarks = [[p.x,p.y] for p in predictor(img,d).parts()]\n",
    "    # 把68個定位寫入txt檔\n",
    "    for idx,point in enumerate(lanmarks):\n",
    "        f.write(str(point[0]))\n",
    "        f.write(\"\\t\")\n",
    "        f.write(str(point[1]))\n",
    "        f.write('\\n')\n"
   ]
  },
  {
   "cell_type": "code",
   "execution_count": 7,
   "id": "80990103",
   "metadata": {},
   "outputs": [],
   "source": [
    "#  #Create an instance of Subdiv2d\n",
    "# size = img.shape\n",
    "# rect = (0,0,size[1],size[0])\n",
    "# subdiv = cv2.Subdiv2D(rect)\n",
    "# #Create an array of points\n",
    "# points = []\n",
    "# #Read in the points from a text file\n",
    "# with open(txt_path) as file:\n",
    "#     for line in file:\n",
    "#         x,y = line.split()\n",
    "#         points.append((int(x),int(y)))\n",
    "# #Insert points into subdiv\n",
    "# for p in points:\n",
    "#     subdiv.insert(p)\n"
   ]
  },
  {
   "cell_type": "code",
   "execution_count": null,
   "id": "fc0a6ac3",
   "metadata": {},
   "outputs": [],
   "source": [
    "\n"
   ]
  },
  {
   "cell_type": "code",
   "execution_count": null,
   "id": "6e69344f",
   "metadata": {},
   "outputs": [],
   "source": []
  },
  {
   "cell_type": "code",
   "execution_count": null,
   "id": "988fdeff",
   "metadata": {},
   "outputs": [],
   "source": []
  },
  {
   "cell_type": "code",
   "execution_count": null,
   "id": "777da1d3",
   "metadata": {},
   "outputs": [],
   "source": []
  },
  {
   "cell_type": "code",
   "execution_count": null,
   "id": "d0776cd4",
   "metadata": {},
   "outputs": [],
   "source": []
  },
  {
   "cell_type": "code",
   "execution_count": null,
   "id": "3c625d4e",
   "metadata": {},
   "outputs": [],
   "source": []
  }
 ],
 "metadata": {
  "kernelspec": {
   "display_name": "Python 3",
   "language": "python",
   "name": "python3"
  },
  "language_info": {
   "codemirror_mode": {
    "name": "ipython",
    "version": 3
   },
   "file_extension": ".py",
   "mimetype": "text/x-python",
   "name": "python",
   "nbconvert_exporter": "python",
   "pygments_lexer": "ipython3",
   "version": "3.8.8"
  }
 },
 "nbformat": 4,
 "nbformat_minor": 5
}
